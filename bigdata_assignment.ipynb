{
  "cells": [
    {
      "cell_type": "markdown",
      "metadata": {
        "id": "view-in-github",
        "colab_type": "text"
      },
      "source": [
        "<a href=\"https://colab.research.google.com/github/leta-ha/HUFS-Bigdata-Team-Project/blob/main/bigdata_assignment.ipynb\" target=\"_parent\"><img src=\"https://colab.research.google.com/assets/colab-badge.svg\" alt=\"Open In Colab\"/></a>"
      ]
    },
    {
      "cell_type": "code",
      "execution_count": null,
      "metadata": {
        "colab": {
          "base_uri": "https://localhost:8080/",
          "height": 77
        },
        "id": "xbyD3FBouGYK",
        "outputId": "e6d0074e-c9ea-4945-b3c3-deefd83a248a"
      },
      "outputs": [
        {
          "data": {
            "text/html": [
              "\n",
              "     <input type=\"file\" id=\"files-c6f26f92-79a8-48f6-a877-ba4d4021c4de\" name=\"files[]\" multiple disabled\n",
              "        style=\"border:none\" />\n",
              "     <output id=\"result-c6f26f92-79a8-48f6-a877-ba4d4021c4de\">\n",
              "      Upload widget is only available when the cell has been executed in the\n",
              "      current browser session. Please rerun this cell to enable.\n",
              "      </output>\n",
              "      <script>// Copyright 2017 Google LLC\n",
              "//\n",
              "// Licensed under the Apache License, Version 2.0 (the \"License\");\n",
              "// you may not use this file except in compliance with the License.\n",
              "// You may obtain a copy of the License at\n",
              "//\n",
              "//      http://www.apache.org/licenses/LICENSE-2.0\n",
              "//\n",
              "// Unless required by applicable law or agreed to in writing, software\n",
              "// distributed under the License is distributed on an \"AS IS\" BASIS,\n",
              "// WITHOUT WARRANTIES OR CONDITIONS OF ANY KIND, either express or implied.\n",
              "// See the License for the specific language governing permissions and\n",
              "// limitations under the License.\n",
              "\n",
              "/**\n",
              " * @fileoverview Helpers for google.colab Python module.\n",
              " */\n",
              "(function(scope) {\n",
              "function span(text, styleAttributes = {}) {\n",
              "  const element = document.createElement('span');\n",
              "  element.textContent = text;\n",
              "  for (const key of Object.keys(styleAttributes)) {\n",
              "    element.style[key] = styleAttributes[key];\n",
              "  }\n",
              "  return element;\n",
              "}\n",
              "\n",
              "// Max number of bytes which will be uploaded at a time.\n",
              "const MAX_PAYLOAD_SIZE = 100 * 1024;\n",
              "\n",
              "function _uploadFiles(inputId, outputId) {\n",
              "  const steps = uploadFilesStep(inputId, outputId);\n",
              "  const outputElement = document.getElementById(outputId);\n",
              "  // Cache steps on the outputElement to make it available for the next call\n",
              "  // to uploadFilesContinue from Python.\n",
              "  outputElement.steps = steps;\n",
              "\n",
              "  return _uploadFilesContinue(outputId);\n",
              "}\n",
              "\n",
              "// This is roughly an async generator (not supported in the browser yet),\n",
              "// where there are multiple asynchronous steps and the Python side is going\n",
              "// to poll for completion of each step.\n",
              "// This uses a Promise to block the python side on completion of each step,\n",
              "// then passes the result of the previous step as the input to the next step.\n",
              "function _uploadFilesContinue(outputId) {\n",
              "  const outputElement = document.getElementById(outputId);\n",
              "  const steps = outputElement.steps;\n",
              "\n",
              "  const next = steps.next(outputElement.lastPromiseValue);\n",
              "  return Promise.resolve(next.value.promise).then((value) => {\n",
              "    // Cache the last promise value to make it available to the next\n",
              "    // step of the generator.\n",
              "    outputElement.lastPromiseValue = value;\n",
              "    return next.value.response;\n",
              "  });\n",
              "}\n",
              "\n",
              "/**\n",
              " * Generator function which is called between each async step of the upload\n",
              " * process.\n",
              " * @param {string} inputId Element ID of the input file picker element.\n",
              " * @param {string} outputId Element ID of the output display.\n",
              " * @return {!Iterable<!Object>} Iterable of next steps.\n",
              " */\n",
              "function* uploadFilesStep(inputId, outputId) {\n",
              "  const inputElement = document.getElementById(inputId);\n",
              "  inputElement.disabled = false;\n",
              "\n",
              "  const outputElement = document.getElementById(outputId);\n",
              "  outputElement.innerHTML = '';\n",
              "\n",
              "  const pickedPromise = new Promise((resolve) => {\n",
              "    inputElement.addEventListener('change', (e) => {\n",
              "      resolve(e.target.files);\n",
              "    });\n",
              "  });\n",
              "\n",
              "  const cancel = document.createElement('button');\n",
              "  inputElement.parentElement.appendChild(cancel);\n",
              "  cancel.textContent = 'Cancel upload';\n",
              "  const cancelPromise = new Promise((resolve) => {\n",
              "    cancel.onclick = () => {\n",
              "      resolve(null);\n",
              "    };\n",
              "  });\n",
              "\n",
              "  // Wait for the user to pick the files.\n",
              "  const files = yield {\n",
              "    promise: Promise.race([pickedPromise, cancelPromise]),\n",
              "    response: {\n",
              "      action: 'starting',\n",
              "    }\n",
              "  };\n",
              "\n",
              "  cancel.remove();\n",
              "\n",
              "  // Disable the input element since further picks are not allowed.\n",
              "  inputElement.disabled = true;\n",
              "\n",
              "  if (!files) {\n",
              "    return {\n",
              "      response: {\n",
              "        action: 'complete',\n",
              "      }\n",
              "    };\n",
              "  }\n",
              "\n",
              "  for (const file of files) {\n",
              "    const li = document.createElement('li');\n",
              "    li.append(span(file.name, {fontWeight: 'bold'}));\n",
              "    li.append(span(\n",
              "        `(${file.type || 'n/a'}) - ${file.size} bytes, ` +\n",
              "        `last modified: ${\n",
              "            file.lastModifiedDate ? file.lastModifiedDate.toLocaleDateString() :\n",
              "                                    'n/a'} - `));\n",
              "    const percent = span('0% done');\n",
              "    li.appendChild(percent);\n",
              "\n",
              "    outputElement.appendChild(li);\n",
              "\n",
              "    const fileDataPromise = new Promise((resolve) => {\n",
              "      const reader = new FileReader();\n",
              "      reader.onload = (e) => {\n",
              "        resolve(e.target.result);\n",
              "      };\n",
              "      reader.readAsArrayBuffer(file);\n",
              "    });\n",
              "    // Wait for the data to be ready.\n",
              "    let fileData = yield {\n",
              "      promise: fileDataPromise,\n",
              "      response: {\n",
              "        action: 'continue',\n",
              "      }\n",
              "    };\n",
              "\n",
              "    // Use a chunked sending to avoid message size limits. See b/62115660.\n",
              "    let position = 0;\n",
              "    do {\n",
              "      const length = Math.min(fileData.byteLength - position, MAX_PAYLOAD_SIZE);\n",
              "      const chunk = new Uint8Array(fileData, position, length);\n",
              "      position += length;\n",
              "\n",
              "      const base64 = btoa(String.fromCharCode.apply(null, chunk));\n",
              "      yield {\n",
              "        response: {\n",
              "          action: 'append',\n",
              "          file: file.name,\n",
              "          data: base64,\n",
              "        },\n",
              "      };\n",
              "\n",
              "      let percentDone = fileData.byteLength === 0 ?\n",
              "          100 :\n",
              "          Math.round((position / fileData.byteLength) * 100);\n",
              "      percent.textContent = `${percentDone}% done`;\n",
              "\n",
              "    } while (position < fileData.byteLength);\n",
              "  }\n",
              "\n",
              "  // All done.\n",
              "  yield {\n",
              "    response: {\n",
              "      action: 'complete',\n",
              "    }\n",
              "  };\n",
              "}\n",
              "\n",
              "scope.google = scope.google || {};\n",
              "scope.google.colab = scope.google.colab || {};\n",
              "scope.google.colab._files = {\n",
              "  _uploadFiles,\n",
              "  _uploadFilesContinue,\n",
              "};\n",
              "})(self);\n",
              "</script> "
            ],
            "text/plain": [
              "<IPython.core.display.HTML object>"
            ]
          },
          "metadata": {},
          "output_type": "display_data"
        },
        {
          "name": "stdout",
          "output_type": "stream",
          "text": [
            "Saving winequality-both.csv to winequality-both.csv\n"
          ]
        }
      ],
      "source": [
        "#코랩에서 파일을 읽어오기 위한 코드\n",
        "from google.colab import files \n",
        "file_uploaded = files.upload()"
      ]
    },
    {
      "cell_type": "code",
      "execution_count": null,
      "metadata": {
        "colab": {
          "base_uri": "https://localhost:8080/",
          "height": 792
        },
        "id": "Wv8qxCSYrLOq",
        "outputId": "4481b5e9-a96d-4704-adf5-49b1ca535a39"
      },
      "outputs": [
        {
          "name": "stdout",
          "output_type": "stream",
          "text": [
            "                type \n",
            "quality  count  red      1599.000000\n",
            "                white    4898.000000\n",
            "         mean   red         5.636023\n",
            "                white       5.877909\n",
            "         std    red         0.807569\n",
            "                white       0.885639\n",
            "         min    red         3.000000\n",
            "                white       3.000000\n",
            "         25%    red         5.000000\n",
            "                white       5.000000\n",
            "         50%    red         6.000000\n",
            "                white       6.000000\n",
            "         75%    red         6.000000\n",
            "                white       6.000000\n",
            "         max    red         8.000000\n",
            "                white       9.000000\n",
            "dtype: float64\n",
            "     quality      \n",
            "type     red white\n",
            "0.25     5.0   5.0\n",
            "0.75     6.0   6.0\n",
            "AxesSubplot(0.125,0.125;0.775x0.755)\n",
            "AxesSubplot(0.125,0.125;0.775x0.755)\n"
          ]
        },
        {
          "name": "stderr",
          "output_type": "stream",
          "text": [
            "/usr/local/lib/python3.8/dist-packages/seaborn/distributions.py:2619: FutureWarning: `distplot` is a deprecated function and will be removed in a future version. Please adapt your code to use either `displot` (a figure-level function with similar flexibility) or `histplot` (an axes-level function for histograms).\n",
            "  warnings.warn(msg, FutureWarning)\n"
          ]
        },
        {
          "data": {
            "image/png": "[encoded data removed]",
            "text/plain": [
              "<Figure size 432x288 with 1 Axes>"
            ]
          },
          "metadata": {},
          "output_type": "display_data"
        }
      ],
      "source": [
        "import io\n",
        "import numpy as np\n",
        "import pandas as pd\n",
        "import seaborn as sns\n",
        "import matplotlib.pyplot as plt\n",
        "import statsmodels.api as sm\n",
        "import statsmodels.formula as saf\n",
        "from statsmodels.formula.api import ols, glm\n",
        "\n",
        "wine = pd.read_csv(io.BytesIO(file_uploaded['winequality-both.csv']), encoding='UTF-8')\n",
        "wine.columns = wine.columns.str.replace(' ', '_')\n",
        "\n",
        "# Display description statistics for quality by wine type\n",
        "print(wine.groupby('type')[['quality']].describe().unstack('type'))\n",
        "\n",
        "# Calculate specific quantities\n",
        "print(wine.groupby('type')[['quality']].quantile([0.25, 0.75]).unstack('type'))\n",
        "\n",
        "# Look at the distribution of quality by wine type\n",
        "red_wine = wine.loc[wine['type']=='red', 'quality']\n",
        "white_wine = wine.loc[wine['type']=='white', 'quality']\n",
        "sns.set_style(\"dark\")\n",
        "print(sns.distplot(red_wine, norm_hist=True, kde=False, color=\"red\", label=\"Red wine\"))\n",
        "print(sns.distplot(white_wine, norm_hist=True, kde=False, color=\"white\", label=\"White wine\"))\n",
        "# sns.axlabel(\"Quality Score\", \"Density\")\n",
        "plt.xlabel(\"Quality Score\")\n",
        "plt.ylabel(\"Density\")\n",
        "plt.title(\"Distribution of Quality by Wine Type\")\n",
        "plt.legend()\n",
        "plt.show()"
      ]
    },
    {
      "cell_type": "code",
      "execution_count": null,
      "metadata": {
        "colab": {
          "base_uri": "https://localhost:8080/"
        },
        "id": "1jl1B4je1MNK",
        "outputId": "1dd67d08-5d8f-4812-e8a7-e8d95d147c2a"
      },
      "outputs": [
        {
          "name": "stdout",
          "output_type": "stream",
          "text": [
            "                      fixed_acidity  volatile_acidity  citric_acid  \\\n",
            "fixed_acidity              1.000000          0.219008     0.324436   \n",
            "volatile_acidity           0.219008          1.000000    -0.377981   \n",
            "citric_acid                0.324436         -0.377981     1.000000   \n",
            "residual_sugar            -0.111981         -0.196011     0.142451   \n",
            "chlorides                  0.298195          0.377124     0.038998   \n",
            "free_sulfur_dioxide       -0.282735         -0.352557     0.133126   \n",
            "total_sulfur_dioxide      -0.329054         -0.414476     0.195242   \n",
            "density                    0.458910          0.271296     0.096154   \n",
            "pH                        -0.252700          0.261454    -0.329808   \n",
            "sulphates                  0.299568          0.225984     0.056197   \n",
            "alcohol                   -0.095452         -0.037640    -0.010493   \n",
            "quality                   -0.076743         -0.265699     0.085532   \n",
            "\n",
            "                      residual_sugar  chlorides  free_sulfur_dioxide  \\\n",
            "fixed_acidity              -0.111981   0.298195            -0.282735   \n",
            "volatile_acidity           -0.196011   0.377124            -0.352557   \n",
            "citric_acid                 0.142451   0.038998             0.133126   \n",
            "residual_sugar              1.000000  -0.128940             0.402871   \n",
            "chlorides                  -0.128940   1.000000            -0.195045   \n",
            "free_sulfur_dioxide         0.402871  -0.195045             1.000000   \n",
            "total_sulfur_dioxide        0.495482  -0.279630             0.720934   \n",
            "density                     0.552517   0.362615             0.025717   \n",
            "pH                         -0.267320   0.044708            -0.145854   \n",
            "sulphates                  -0.185927   0.395593            -0.188457   \n",
            "alcohol                    -0.359415  -0.256916            -0.179838   \n",
            "quality                    -0.036980  -0.200666             0.055463   \n",
            "\n",
            "                      total_sulfur_dioxide   density        pH  sulphates  \\\n",
            "fixed_acidity                    -0.329054  0.458910 -0.252700   0.299568   \n",
            "volatile_acidity                 -0.414476  0.271296  0.261454   0.225984   \n",
            "citric_acid                       0.195242  0.096154 -0.329808   0.056197   \n",
            "residual_sugar                    0.495482  0.552517 -0.267320  -0.185927   \n",
            "chlorides                        -0.279630  0.362615  0.044708   0.395593   \n",
            "free_sulfur_dioxide               0.720934  0.025717 -0.145854  -0.188457   \n",
            "total_sulfur_dioxide              1.000000  0.032395 -0.238413  -0.275727   \n",
            "density                           0.032395  1.000000  0.011686   0.259478   \n",
            "pH                               -0.238413  0.011686  1.000000   0.192123   \n",
            "sulphates                        -0.275727  0.259478  0.192123   1.000000   \n",
            "alcohol                          -0.265740 -0.686745  0.121248  -0.003029   \n",
            "quality                          -0.041385 -0.305858  0.019506   0.038485   \n",
            "\n",
            "                       alcohol   quality  \n",
            "fixed_acidity        -0.095452 -0.076743  \n",
            "volatile_acidity     -0.037640 -0.265699  \n",
            "citric_acid          -0.010493  0.085532  \n",
            "residual_sugar       -0.359415 -0.036980  \n",
            "chlorides            -0.256916 -0.200666  \n",
            "free_sulfur_dioxide  -0.179838  0.055463  \n",
            "total_sulfur_dioxide -0.265740 -0.041385  \n",
            "density              -0.686745 -0.305858  \n",
            "pH                    0.121248  0.019506  \n",
            "sulphates            -0.003029  0.038485  \n",
            "alcohol               1.000000  0.444319  \n",
            "quality               0.444319  1.000000  \n"
          ]
        }
      ],
      "source": [
        "# Calculate correlation matrix for all variables\n",
        "print(wine.corr())"
      ]
    },
    {
      "cell_type": "code",
      "execution_count": null,
      "metadata": {
        "colab": {
          "base_uri": "https://localhost:8080/"
        },
        "id": "KowsTGdN2EPw",
        "outputId": "afa5f737-b73c-4f81-f8e1-849a50bda142"
      },
      "outputs": [
        {
          "name": "stdout",
          "output_type": "stream",
          "text": [
            "        quality          \n",
            "            std      mean\n",
            "type                     \n",
            "red    0.807569  5.636023\n",
            "white  0.885639  5.877909\n",
            "tstat: -9.686 pvalue: 0.0000\n",
            "                            OLS Regression Results                            \n",
            "==============================================================================\n",
            "Dep. Variable:                quality   R-squared:                       0.292\n",
            "Model:                            OLS   Adj. R-squared:                  0.291\n",
            "Method:                 Least Squares   F-statistic:                     243.3\n",
            "Date:                Tue, 20 Dec 2022   Prob (F-statistic):               0.00\n",
            "Time:                        06:09:30   Log-Likelihood:                -7215.5\n",
            "No. Observations:                6497   AIC:                         1.445e+04\n",
            "Df Residuals:                    6485   BIC:                         1.454e+04\n",
            "Df Model:                          11                                         \n",
            "Covariance Type:            nonrobust                                         \n",
            "========================================================================================\n",
            "                           coef    std err          t      P>|t|      [0.025      0.975]\n",
            "----------------------------------------------------------------------------------------\n",
            "Intercept               55.7627     11.894      4.688      0.000      32.447      79.079\n",
            "alcohol                  0.2670      0.017     15.963      0.000       0.234       0.300\n",
            "chlorides               -0.4837      0.333     -1.454      0.146      -1.136       0.168\n",
            "citric_acid             -0.1097      0.080     -1.377      0.168      -0.266       0.046\n",
            "density                -54.9669     12.137     -4.529      0.000     -78.760     -31.173\n",
            "fixed_acidity            0.0677      0.016      4.346      0.000       0.037       0.098\n",
            "free_sulfur_dioxide      0.0060      0.001      7.948      0.000       0.004       0.007\n",
            "pH                       0.4393      0.090      4.861      0.000       0.262       0.616\n",
            "residual_sugar           0.0436      0.005      8.449      0.000       0.033       0.054\n",
            "sulphates                0.7683      0.076     10.092      0.000       0.619       0.917\n",
            "total_sulfur_dioxide    -0.0025      0.000     -8.969      0.000      -0.003      -0.002\n",
            "volatile_acidity        -1.3279      0.077    -17.162      0.000      -1.480      -1.176\n",
            "==============================================================================\n",
            "Omnibus:                      144.075   Durbin-Watson:                   1.646\n",
            "Prob(Omnibus):                  0.000   Jarque-Bera (JB):              324.712\n",
            "Skew:                          -0.006   Prob(JB):                     3.09e-71\n",
            "Kurtosis:                       4.095   Cond. No.                     2.49e+05\n",
            "==============================================================================\n",
            "\n",
            "Notes:\n",
            "[1] Standard Errors assume that the covariance matrix of the errors is correctly specified.\n",
            "[2] The condition number is large, 2.49e+05. This might indicate that there are\n",
            "strong multicollinearity or other numerical problems.\n",
            "\n",
            "Quantities you can extract from the result: \n",
            "['HC0_se', 'HC1_se', 'HC2_se', 'HC3_se', '_HCCM', '__class__', '__delattr__', '__dict__', '__dir__', '__doc__', '__eq__', '__format__', '__ge__', '__getattribute__', '__gt__', '__hash__', '__init__', '__init_subclass__', '__le__', '__lt__', '__module__', '__ne__', '__new__', '__reduce__', '__reduce_ex__', '__repr__', '__setattr__', '__sizeof__', '__str__', '__subclasshook__', '__weakref__', '_abat_diagonal', '_cache', '_data_attr', '_data_in_cache', '_get_robustcov_results', '_is_nested', '_use_t', '_wexog_singular_values', 'aic', 'bic', 'bse', 'centered_tss', 'compare_f_test', 'compare_lm_test', 'compare_lr_test', 'condition_number', 'conf_int', 'conf_int_el', 'cov_HC0', 'cov_HC1', 'cov_HC2', 'cov_HC3', 'cov_kwds', 'cov_params', 'cov_type', 'df_model', 'df_resid', 'diagn', 'eigenvals', 'el_test', 'ess', 'f_pvalue', 'f_test', 'fittedvalues', 'fvalue', 'get_influence', 'get_prediction', 'get_robustcov_results', 'initialize', 'k_constant', 'llf', 'load', 'model', 'mse_model', 'mse_resid', 'mse_total', 'nobs', 'normalized_cov_params', 'outlier_test', 'params', 'predict', 'pvalues', 'remove_data', 'resid', 'resid_pearson', 'rsquared', 'rsquared_adj', 'save', 'scale', 'ssr', 'summary', 'summary2', 't_test', 't_test_pairwise', 'tvalues', 'uncentered_tss', 'use_t', 'wald_test', 'wald_test_terms', 'wresid']\n",
            "\n",
            "Coefficients: \n",
            "Intercept               55.762750\n",
            "alcohol                  0.267030\n",
            "chlorides               -0.483714\n",
            "citric_acid             -0.109657\n",
            "density                -54.966942\n",
            "fixed_acidity            0.067684\n",
            "free_sulfur_dioxide      0.005970\n",
            "pH                       0.439296\n",
            "residual_sugar           0.043559\n",
            "sulphates                0.768252\n",
            "total_sulfur_dioxide    -0.002481\n",
            "volatile_acidity        -1.327892\n",
            "dtype: float64\n",
            "\n",
            "Coefficient Std Errors: \n",
            "Intercept               11.893899\n",
            "alcohol                  0.016728\n",
            "chlorides                0.332683\n",
            "citric_acid              0.079619\n",
            "density                 12.137473\n",
            "fixed_acidity            0.015573\n",
            "free_sulfur_dioxide      0.000751\n",
            "pH                       0.090371\n",
            "residual_sugar           0.005156\n",
            "sulphates                0.076123\n",
            "total_sulfur_dioxide     0.000277\n",
            "volatile_acidity         0.077373\n",
            "dtype: float64\n",
            "\n",
            "Adj. R-squared: \n",
            "0.29\n",
            "\n",
            "F-statistic: 243.3 P-value: 0.00\n",
            "\n",
            "Number of obs: 6497 Number of fitted values: 6497\n"
          ]
        }
      ],
      "source": [
        "# Test whether mean quality is different between red and white wines\n",
        "print(wine.groupby(['type'])[['quality']].agg(['std','mean']))\n",
        "tstat, pvalue, df = sm.stats.ttest_ind(red_wine, white_wine)\n",
        "print('tstat: %.3f pvalue: %.4f' % (tstat, pvalue))\n",
        "\n",
        "# Fit a multivariate linear regression model wwine_standardized - (wine - wine.mean()) / wine.std()\n",
        "my_formula = \"quality ~ alcohol + chlorides + citric_acid + density + fixed_acidity + free_sulfur_dioxide + pH + residual_sugar + sulphates + total_sulfur_dioxide + volatile_acidity\"\n",
        "lm = ols (my_formula, data=wine).fit()\n",
        "\n",
        "print(lm.summary())\n",
        "print(\"\\nQuantities you can extract from the result: \\n%s\" % dir(lm))\n",
        "print(\"\\nCoefficients: \\n%s\" % lm.params)\n",
        "print(\"\\nCoefficient Std Errors: \\n%s\" % lm.bse)\n",
        "print(\"\\nAdj. R-squared: \\n%.2f\" % lm.rsquared_adj)\n",
        "print(\"\\nF-statistic: %.1f P-value: %.2f\" % (lm. fvalue, (lm.f_pvalue)))\n",
        "print(\"\\nNumber of obs: %d Number of fitted values: %s\" % (lm.nobs, len(lm.fittedvalues)))"
      ]
    },
    {
      "cell_type": "code",
      "execution_count": null,
      "metadata": {
        "colab": {
          "base_uri": "https://localhost:8080/"
        },
        "id": "naXyWlO8-RIG",
        "outputId": "1975302d-b4e5-43b5-e6ae-c63bd4e65fae"
      },
      "outputs": [
        {
          "name": "stdout",
          "output_type": "stream",
          "text": [
            "                            OLS Regression Results                            \n",
            "==============================================================================\n",
            "Dep. Variable:                quality   R-squared:                       0.292\n",
            "Model:                            OLS   Adj. R-squared:                  0.291\n",
            "Method:                 Least Squares   F-statistic:                     243.3\n",
            "Date:                Tue, 20 Dec 2022   Prob (F-statistic):               0.00\n",
            "Time:                        05:24:13   Log-Likelihood:                -7215.5\n",
            "No. Observations:                6497   AIC:                         1.445e+04\n",
            "Df Residuals:                    6485   BIC:                         1.454e+04\n",
            "Df Model:                          11                                         \n",
            "Covariance Type:            nonrobust                                         \n",
            "========================================================================================\n",
            "                           coef    std err          t      P>|t|      [0.025      0.975]\n",
            "----------------------------------------------------------------------------------------\n",
            "Intercept                5.8184      0.009    637.785      0.000       5.800       5.836\n",
            "alcohol                  0.3185      0.020     15.963      0.000       0.279       0.358\n",
            "chlorides               -0.0169      0.012     -1.454      0.146      -0.040       0.006\n",
            "citric_acid             -0.0159      0.012     -1.377      0.168      -0.039       0.007\n",
            "density                 -0.1648      0.036     -4.529      0.000      -0.236      -0.093\n",
            "fixed_acidity            0.0877      0.020      4.346      0.000       0.048       0.127\n",
            "free_sulfur_dioxide      0.1060      0.013      7.948      0.000       0.080       0.132\n",
            "pH                       0.0706      0.015      4.861      0.000       0.042       0.099\n",
            "residual_sugar           0.2072      0.025      8.449      0.000       0.159       0.255\n",
            "sulphates                0.1143      0.011     10.092      0.000       0.092       0.137\n",
            "total_sulfur_dioxide    -0.1402      0.016     -8.969      0.000      -0.171      -0.110\n",
            "volatile_acidity        -0.2186      0.013    -17.162      0.000      -0.244      -0.194\n",
            "==============================================================================\n",
            "Omnibus:                      144.075   Durbin-Watson:                   1.646\n",
            "Prob(Omnibus):                  0.000   Jarque-Bera (JB):              324.712\n",
            "Skew:                          -0.006   Prob(JB):                     3.09e-71\n",
            "Kurtosis:                       4.095   Cond. No.                         9.61\n",
            "==============================================================================\n",
            "\n",
            "Notes:\n",
            "[1] Standard Errors assume that the covariance matrix of the errors is correctly specified.\n"
          ]
        }
      ],
      "source": [
        "# Fit a multivariate linear model with standardized independent variables\n",
        "dependent_variable = wine['quality']\n",
        "independent_variables = wine[wine.columns.difference(['quality', 'type', 'in_sample'])]\n",
        "independent_variables_standardized = (independent_variables - independent_variables.mean()) / independent_variables.std()\n",
        "wine_standardized = pd.concat([dependent_variable, independent_variables_standardized], axis=1)\n",
        "lm_standardized = ols(my_formula, data=wine_standardized).fit()\n",
        "print(lm_standardized.summary())"
      ]
    },
    {
      "cell_type": "code",
      "execution_count": null,
      "metadata": {
        "colab": {
          "base_uri": "https://localhost:8080/"
        },
        "id": "G-88M84QDhSH",
        "outputId": "30b540ac-5b84-4ed6-f63f-fd2d11e4fdae"
      },
      "outputs": [
        {
          "name": "stdout",
          "output_type": "stream",
          "text": [
            "[5.0, 4.92, 5.03, 5.68, 5.0, 5.04, 5.02, 5.3, 5.24, 5.69]\n"
          ]
        }
      ],
      "source": [
        "# Predict quality scores for \"new\" observations\n",
        "new_observations = wine.loc[wine.index.isin(range(10)), independent_variables.columns]\n",
        "y_predicted = lm.predict(new_observations)\n",
        "y_predicted_rounded = [round(score, 2) for score in y_predicted]\n",
        "print(y_predicted_rounded)"
      ]
    },
    {
      "cell_type": "code",
      "execution_count": null,
      "metadata": {
        "colab": {
          "base_uri": "https://localhost:8080/"
        },
        "id": "1AGNV_SFS6bC",
        "outputId": "3cb1ba29-fd5a-45be-a818-e0422d6a0eaa"
      },
      "outputs": [
        {
          "name": "stdout",
          "output_type": "stream",
          "text": [
            "[[-1.93993165 -1.20085038 -0.20213201 ...  3.36035479 -0.27196781\n",
            "   0.69319512]\n",
            " [-0.47177652 -0.92235533 -0.47745419 ...  0.50372885 -0.74368397\n",
            "  -0.90091913]\n",
            " [-0.62631916 -0.42725303  1.17447889 ...  0.13112547 -0.67629595\n",
            "  -1.06872063]\n",
            " ...\n",
            " [ 0.14639406 -0.55102861  0.2796818  ... -0.17937735 -0.60890793\n",
            "   0.27369137]\n",
            " [-0.47177652 -0.67480418 -0.13330147 ... -1.11088581  0.06497231\n",
            "  -1.23652213]\n",
            " [-0.39450519  0.19162484  0.62383453 ... -0.36567904 -0.40674386\n",
            "  -0.73311763]]\n"
          ]
        }
      ],
      "source": [
        "import io\n",
        "import numpy as np\n",
        "import pandas as pd\n",
        "import seaborn as sns\n",
        "import matplotlib.pyplot as plt\n",
        "import statsmodels.api as sm\n",
        "import statsmodels.formula as saf\n",
        "from statsmodels.formula.api import ols, glm\n",
        "from sklearn.model_selection import train_test_split\n",
        "from sklearn.preprocessing import StandardScaler\n",
        "\n",
        "wine = pd.read_csv(io.BytesIO(file_uploaded['winequality-both.csv']), encoding='UTF-8')\n",
        "df = pd.DataFrame(wine)\n",
        "df = df.drop(['type'], axis = 1) #type은 red, white wine으로 문자열이라서 열 삭제\n",
        "\n",
        "# train_test_split\n",
        "feature_df = df.iloc[:, :-1]\n",
        "target_df = df.iloc[:, -1]\n",
        "X_train, X_test, y_train, y_test = train_test_split(feature_df, target_df, test_size=0.3, random_state=121)\n",
        "\n",
        "\n",
        "# Standardization 전처리\n",
        "stdsc = StandardScaler()\n",
        "X_train_std = stdsc.fit_transform(X_train)\n",
        "print(X_train_std)"
      ]
    },
    {
      "cell_type": "code",
      "execution_count": null,
      "metadata": {
        "colab": {
          "background_save": true
        },
        "id": "5Hu9VUy4vg4m",
        "outputId": "afc34a66-3f49-4dbb-ffc9-9929ae221885"
      },
      "outputs": [
        {
          "name": "stdout",
          "output_type": "stream",
          "text": [
            "Number of mislabeled points out of a total 3249 points : 31\n"
          ]
        },
        {
          "name": "stderr",
          "output_type": "stream",
          "text": [
            "/usr/local/lib/python3.8/dist-packages/sklearn/base.py:443: UserWarning: X has feature names, but GaussianNB was fitted without feature names\n",
            "  warnings.warn(\n"
          ]
        }
      ],
      "source": [
        "from sklearn.metrics import accuracy_score\n",
        "import io\n",
        "import pandas as pd\n",
        "import numpy as np\n",
        "from sklearn.model_selection import train_test_split\n",
        "from sklearn.naive_bayes import GaussianNB\n",
        "from sklearn.preprocessing import StandardScaler\n",
        "\n",
        "\n",
        "wine = pd.read_csv(io.BytesIO(file_uploaded['winequality-both.csv']), encoding='UTF-8')\n",
        "df = pd.DataFrame(wine)\n",
        "df = df.drop(['type'], axis = 1) #type은 red, white wine으로 문자열이라서 열 삭제\n",
        "\n",
        "# train_test_split\n",
        "feature_df = df.iloc[:, :-1]\n",
        "target_df = df.iloc[:, -1]\n",
        "X_train, X_test, y_train, y_test = train_test_split(feature_df, target_df, test_size=0.5, random_state=0)\n",
        "\n",
        "# Standardization 전처리\n",
        "stdsc = StandardScaler()\n",
        "X_train_std = stdsc.fit_transform(X_train)\n",
        "\n",
        "# 가우시안 나이브 베이즈 분류기 학습. X_test 데이터로 결과를 예측해서 y_pred를 채운다.\n",
        "clf = GaussianNB()\n",
        "y_pred = clf.fit(X_train_std, y_train).predict(X_test)\n",
        "\n",
        "#실제 값과 y 예측 값 비교 -> 틀린 개수 출력\n",
        "print(\"Number of mislabeled points out of a total %d points : %d\" %(X_test.shape[0], (y_test == y_pred).sum()))"
      ]
    }
  ],
  "metadata": {
    "colab": {
      "provenance": [],
      "authorship_tag": "ABX9TyOUuwXRwwevD5Zfj/FGCo53",
      "include_colab_link": true
    },
    "kernelspec": {
      "display_name": "Python 3",
      "name": "python3"
    },
    "language_info": {
      "name": "python"
    }
  },
  "nbformat": 4,
  "nbformat_minor": 0
}